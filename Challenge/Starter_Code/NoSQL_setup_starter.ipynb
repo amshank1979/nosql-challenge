{
 "cells": [
  {
   "cell_type": "markdown",
   "id": "9a57c4c6",
   "metadata": {},
   "source": [
    "# Eat Safe, Love"
   ]
  },
  {
   "cell_type": "markdown",
   "id": "064ef857",
   "metadata": {},
   "source": [
    "## Part 1: Database and Jupyter Notebook Set Up"
   ]
  },
  {
   "cell_type": "markdown",
   "id": "664e3c1f",
   "metadata": {},
   "source": [
    "Import the data provided in the `establishments.json` file from your Terminal. Name the database `uk_food` and the collection `establishments`.\n",
    "\n",
    "\n",
    "Within this markdown cell, copy the line of text you used to import the data from your Terminal. This way, future analysts will be able to repeat your process.\n",
    "\n",
    "e.g.: Import the dataset with `YOUR IMPORT TEXT HERE`\n",
    "\n",
    "mongoimport --type json -d uk_food -c establishments --drop --jsonArray establishments.json\n"
   ]
  },
  {
   "cell_type": "code",
   "execution_count": 1,
   "id": "3ecdd008",
   "metadata": {},
   "outputs": [],
   "source": [
    "# Import dependencies\n",
    "from pymongo import MongoClient\n",
    "from pprint import pprint"
   ]
  },
  {
   "cell_type": "code",
   "execution_count": 2,
   "id": "59390c4a",
   "metadata": {},
   "outputs": [],
   "source": [
    "# Create an instance of MongoClient\n",
    "mongo = MongoClient(port=27017)"
   ]
  },
  {
   "cell_type": "code",
   "execution_count": 3,
   "id": "7f9ececa",
   "metadata": {},
   "outputs": [
    {
     "name": "stdout",
     "output_type": "stream",
     "text": [
      "['Traveldb', 'admin', 'classDB', 'config', 'epa', 'fruits_db', 'local', 'met', 'test', 'uk_food', 'uk_food_bin']\n"
     ]
    }
   ],
   "source": [
    "# confirm that our new database was created\n",
    "print(mongo.list_database_names())"
   ]
  },
  {
   "cell_type": "code",
   "execution_count": 4,
   "id": "71e373c1",
   "metadata": {},
   "outputs": [],
   "source": [
    "# assign the uk_food database to a variable name\n",
    "db = mongo['uk_food']"
   ]
  },
  {
   "cell_type": "code",
   "execution_count": 5,
   "id": "ef1b89ed",
   "metadata": {},
   "outputs": [
    {
     "name": "stdout",
     "output_type": "stream",
     "text": [
      "['establishments']\n"
     ]
    }
   ],
   "source": [
    "# review the collections in our new database\n",
    "print(db.list_collection_names())"
   ]
  },
  {
   "cell_type": "code",
   "execution_count": 6,
   "id": "18ab463c",
   "metadata": {},
   "outputs": [
    {
     "name": "stdout",
     "output_type": "stream",
     "text": [
      "['establishments']\n"
     ]
    }
   ],
   "source": [
    "# review the collections in our new database\n",
    "print(db.list_collection_names())"
   ]
  },
  {
   "cell_type": "code",
   "execution_count": 7,
   "id": "6a0d92df",
   "metadata": {},
   "outputs": [
    {
     "name": "stdout",
     "output_type": "stream",
     "text": [
      "{'AddressLine1': 'The Bay',\n",
      " 'AddressLine2': 'St Margarets Bay',\n",
      " 'AddressLine3': 'Kent',\n",
      " 'AddressLine4': '',\n",
      " 'BusinessName': 'Refreshment Kiosk',\n",
      " 'BusinessType': 'Restaurant/Cafe/Canteen',\n",
      " 'BusinessTypeID': 1,\n",
      " 'ChangesByServerID': 0,\n",
      " 'Distance': 4587.347174863443,\n",
      " 'FHRSID': 254719,\n",
      " 'LocalAuthorityBusinessID': 'PI/000069980',\n",
      " 'LocalAuthorityCode': '182',\n",
      " 'LocalAuthorityEmailAddress': 'publicprotection@dover.gov.uk',\n",
      " 'LocalAuthorityName': 'Dover',\n",
      " 'LocalAuthorityWebSite': 'http://www.dover.gov.uk/',\n",
      " 'NewRatingPending': False,\n",
      " 'Phone': '',\n",
      " 'PostCode': 'CT15 6DY',\n",
      " 'RatingDate': '2022-03-24T00:00:00',\n",
      " 'RatingKey': 'fhrs_5_en-gb',\n",
      " 'RatingValue': 5,\n",
      " 'RightToReply': '',\n",
      " 'SchemeType': 'FHRS',\n",
      " '_id': ObjectId('64f4f88b77e8a5b4162485d3'),\n",
      " 'geocode': {'latitude': '51.152225', 'longitude': '1.387974'},\n",
      " 'links': [{'href': 'https://api.ratings.food.gov.uk/establishments/254719',\n",
      "            'rel': 'self'}],\n",
      " 'meta': {'dataSource': None,\n",
      "          'extractDate': '0001-01-01T00:00:00',\n",
      "          'itemCount': 0,\n",
      "          'pageNumber': 0,\n",
      "          'pageSize': 0,\n",
      "          'returncode': None,\n",
      "          'totalCount': 0,\n",
      "          'totalPages': 0},\n",
      " 'scores': {'ConfidenceInManagement': 5, 'Hygiene': 0, 'Structural': 5}}\n"
     ]
    }
   ],
   "source": [
    "# Create an instance of the Mongo Client\n",
    "client = MongoClient('mongodb://localhost:27017/')\n",
    "\n",
    "# Specify the name of your database and collection\n",
    "db_name = 'uk_food'  # Replace with your actual database name\n",
    "collection_name = 'establishments'  # Replace with your actual collection name\n",
    "\n",
    "# Connect to the specified database and collection\n",
    "db = client[db_name]\n",
    "collection = db[collection_name]\n",
    "\n",
    "# Find and display one document from the collection\n",
    "document = collection.find_one()\n",
    "\n",
    "# Use pprint to display the document\n",
    "pprint(document)"
   ]
  },
  {
   "cell_type": "code",
   "execution_count": 8,
   "id": "11c9f11b",
   "metadata": {},
   "outputs": [],
   "source": [
    "# assign the collection to a variable\n",
    "establishments = db['establishments']"
   ]
  },
  {
   "cell_type": "markdown",
   "id": "d5671434",
   "metadata": {},
   "source": [
    "## Part 2: Update the Database"
   ]
  },
  {
   "cell_type": "markdown",
   "id": "314bd884",
   "metadata": {},
   "source": [
    "1. An exciting new halal restaurant just opened in Greenwich, but hasn't been rated yet. The magazine has asked you to include it in your analysis. Add the following restaurant \"Penang Flavours\" to the database."
   ]
  },
  {
   "cell_type": "code",
   "execution_count": 9,
   "id": "c2da7648",
   "metadata": {},
   "outputs": [],
   "source": [
    "# Create a dictionary for the new restaurant data\n",
    "new_restaurant_data = {\n",
    "    \"BusinessName\": \"Penang Flavours\",\n",
    "    \"BusinessType\": \"Restaurant/Cafe/Canteen\",\n",
    "    \"BusinessTypeID\": \"\",  # We'll update this later\n",
    "    \"AddressLine1\": \"Penang Flavours\",\n",
    "    \"AddressLine2\": \"146A Plumstead Rd\",\n",
    "    \"AddressLine3\": \"London\",\n",
    "    \"AddressLine4\": \"\",\n",
    "    \"PostCode\": \"SE18 7DY\",\n",
    "    \"Phone\": \"\",\n",
    "    \"LocalAuthorityCode\": \"511\",\n",
    "    \"LocalAuthorityName\": \"Greenwich\",\n",
    "    \"LocalAuthorityWebSite\": \"http://www.royalgreenwich.gov.uk\",\n",
    "    \"LocalAuthorityEmailAddress\": \"health@royalgreenwich.gov.uk\",\n",
    "    \"scores\": {\n",
    "        \"Hygiene\": \"\",\n",
    "        \"Structural\": \"\",\n",
    "        \"ConfidenceInManagement\": \"\"\n",
    "    },\n",
    "    \"SchemeType\": \"FHRS\",\n",
    "    \"geocode\": {\n",
    "        \"longitude\": \"0.08384000\",\n",
    "        \"latitude\": \"51.49014200\"\n",
    "    },\n",
    "    \"RightToReply\": \"\",\n",
    "    \"Distance\": 4623.9723280747176,\n",
    "    \"NewRatingPending\": True\n",
    "}\n"
   ]
  },
  {
   "cell_type": "code",
   "execution_count": 10,
   "id": "a6e5cece",
   "metadata": {},
   "outputs": [],
   "source": [
    "# Insert the new restaurant into the collection\n",
    "\n",
    "# Specify the name of your database and collection\n",
    "db_name = 'uk_food'  # Replace with your actual database name\n",
    "collection_name = 'establishments'  # Replace with your actual collection name\n",
    "\n",
    "# Connect to the specified database and collection\n",
    "db = client[db_name]\n",
    "establishments = db[collection_name]\n",
    "\n",
    "# Define the new restaurant data\n",
    "new_restaurant_data = {\n",
    "    \"BusinessName\": \"Penang Flavours\",\n",
    "    \"BusinessType\": \"Restaurant/Cafe/Canteen\",\n",
    "    \"BusinessTypeID\": \"12345\",  # Update with the correct BusinessTypeID\n",
    "    \"AddressLine1\": \"Penang Flavours\",\n",
    "    \"AddressLine2\": \"146A Plumstead Rd\",\n",
    "    \"AddressLine3\": \"London\",\n",
    "    \"AddressLine4\": \"\",\n",
    "    \"PostCode\": \"SE18 7DY\",\n",
    "    \"Phone\": \"\",\n",
    "    \"LocalAuthorityCode\": \"511\",\n",
    "    \"LocalAuthorityName\": \"Greenwich\",\n",
    "    \"LocalAuthorityWebSite\": \"http://www.royalgreenwich.gov.uk\",\n",
    "    \"LocalAuthorityEmailAddress\": \"health@royalgreenwich.gov.uk\",\n",
    "    \"scores\": {\n",
    "        \"Hygiene\": \"\",\n",
    "        \"Structural\": \"\",\n",
    "        \"ConfidenceInManagement\": \"\"\n",
    "    },\n",
    "    \"SchemeType\": \"FHRS\",\n",
    "    \"geocode\": {\n",
    "        \"longitude\": \"0.08384000\",\n",
    "        \"latitude\": \"51.49014200\"\n",
    "    },\n",
    "    \"RightToReply\": \"\",\n",
    "    \"Distance\": 4623.9723280747176,\n",
    "    \"NewRatingPending\": True\n",
    "}\n",
    "\n",
    "# Insert the new restaurant document into the collection\n",
    "insert_result = establishments.insert_one(new_restaurant_data)\n",
    "\n"
   ]
  },
  {
   "cell_type": "code",
   "execution_count": 11,
   "id": "63bb10f9",
   "metadata": {},
   "outputs": [
    {
     "name": "stdout",
     "output_type": "stream",
     "text": [
      "New restaurant document inserted successfully.\n"
     ]
    }
   ],
   "source": [
    "# Check that the new restaurant was inserted\n",
    "# Check if the insertion was successful\n",
    "if insert_result.inserted_id:\n",
    "    print(\"New restaurant document inserted successfully.\")\n",
    "else:\n",
    "    print(\"Failed to insert the new restaurant document.\")"
   ]
  },
  {
   "cell_type": "markdown",
   "id": "0ef4395a",
   "metadata": {},
   "source": [
    "2. Find the BusinessTypeID for \"Restaurant/Cafe/Canteen\" and return only the `BusinessTypeID` and `BusinessType` fields."
   ]
  },
  {
   "cell_type": "code",
   "execution_count": 12,
   "id": "93c63829",
   "metadata": {},
   "outputs": [
    {
     "name": "stdout",
     "output_type": "stream",
     "text": [
      "BusinessTypeID for Restaurant/Cafe/Canteen: 1\n"
     ]
    }
   ],
   "source": [
    "# Find the BusinessTypeID for \"Restaurant/Cafe/Canteen\" and return only the BusinessTypeID and BusinessType fields\n",
    "# Define the query to find \"Restaurant/Cafe/Canteen\"\n",
    "query = {\"BusinessType\": \"Restaurant/Cafe/Canteen\"}\n",
    "\n",
    "# Define the projection to return only the desired fields\n",
    "projection = {\"BusinessTypeID\": 1, \"BusinessType\": 1, \"_id\": 0}\n",
    "\n",
    "# Use the find_one() method with the query and projection\n",
    "result = establishments.find_one(query, projection)\n",
    "\n",
    "# Check if a result was found\n",
    "if result:\n",
    "    print(\"BusinessTypeID for Restaurant/Cafe/Canteen:\", result[\"BusinessTypeID\"])\n",
    "else:\n",
    "    print(\"No matching document found.\")"
   ]
  },
  {
   "cell_type": "markdown",
   "id": "4e570caf",
   "metadata": {},
   "source": [
    "3. Update the new restaurant with the `BusinessTypeID` you found."
   ]
  },
  {
   "cell_type": "code",
   "execution_count": 13,
   "id": "7f599f3d",
   "metadata": {},
   "outputs": [
    {
     "data": {
      "text/plain": [
       "{'_id': ObjectId('64f50caa48d80100bfd3adef'),\n",
       " 'BusinessName': 'Penang Flavours',\n",
       " 'BusinessType': 'Restaurant/Cafe/Canteen',\n",
       " 'BusinessTypeID': '1',\n",
       " 'AddressLine1': 'Penang Flavours',\n",
       " 'AddressLine2': '146A Plumstead Rd',\n",
       " 'AddressLine3': 'London',\n",
       " 'AddressLine4': '',\n",
       " 'PostCode': 'SE18 7DY',\n",
       " 'Phone': '',\n",
       " 'LocalAuthorityCode': '511',\n",
       " 'LocalAuthorityName': 'Greenwich',\n",
       " 'LocalAuthorityWebSite': 'http://www.royalgreenwich.gov.uk',\n",
       " 'LocalAuthorityEmailAddress': 'health@royalgreenwich.gov.uk',\n",
       " 'scores': {'Hygiene': '', 'Structural': '', 'ConfidenceInManagement': ''},\n",
       " 'SchemeType': 'FHRS',\n",
       " 'geocode': {'longitude': '0.08384000', 'latitude': '51.49014200'},\n",
       " 'RightToReply': '',\n",
       " 'Distance': 4623.972328074718,\n",
       " 'NewRatingPending': True}"
      ]
     },
     "execution_count": 13,
     "metadata": {},
     "output_type": "execute_result"
    }
   ],
   "source": [
    "# Update the new restaurant with the correct BusinessTypeID\n",
    "# Define the query to identify the new restaurant\n",
    "query = {\"BusinessName\": \"Penang Flavours\"}\n",
    "\n",
    "# Define the new BusinessTypeID (replace '1' with the correct ID)\n",
    "new_business_type_id = \"1\"\n",
    "\n",
    "# Define the update operation to set the BusinessTypeID\n",
    "update_operation = {\"$set\": {\"BusinessTypeID\": new_business_type_id}}\n",
    "\n",
    "# Use the update_one() method to update the restaurant\n",
    "update_result = establishments.update_one(query, update_operation)\n",
    "\n",
    "establishments.find_one(query)\n",
    "\n"
   ]
  },
  {
   "cell_type": "code",
   "execution_count": 14,
   "id": "a6ad16f7",
   "metadata": {},
   "outputs": [
    {
     "name": "stdout",
     "output_type": "stream",
     "text": [
      "Updated BusinessTypeID for 'Penang Flavours' to 1.\n"
     ]
    }
   ],
   "source": [
    "# Confirm that the new restaurant was updated\n",
    "if update_result.modified_count > 0:\n",
    "    print(f\"Updated BusinessTypeID for '{query['BusinessName']}' to {new_business_type_id}.\")\n",
    "else:\n",
    "    print(\"No matching document found or update was not necessary.\")"
   ]
  },
  {
   "cell_type": "markdown",
   "id": "67281254",
   "metadata": {},
   "source": [
    "4. The magazine is not interested in any establishments in Dover, so check how many documents contain the Dover Local Authority. Then, remove any establishments within the Dover Local Authority from the database, and check the number of documents to ensure they were deleted."
   ]
  },
  {
   "cell_type": "code",
   "execution_count": 15,
   "id": "768474a6",
   "metadata": {},
   "outputs": [
    {
     "name": "stdout",
     "output_type": "stream",
     "text": [
      "Number of documents with LocalAuthorityName as 'Dover': 994\n"
     ]
    }
   ],
   "source": [
    "# Find how many documents have LocalAuthorityName as \"Dover\"\n",
    "# Define the query to count documents with LocalAuthorityName as \"Dover\"\n",
    "query = {\"LocalAuthorityName\": \"Dover\"}\n",
    "\n",
    "# Use the count_documents() method to count matching documents\n",
    "count = establishments.count_documents(query)\n",
    "\n",
    "# Print the count\n",
    "print(\"Number of documents with LocalAuthorityName as 'Dover':\", count)"
   ]
  },
  {
   "cell_type": "code",
   "execution_count": 16,
   "id": "a11d5f1b",
   "metadata": {},
   "outputs": [
    {
     "name": "stdout",
     "output_type": "stream",
     "text": [
      "Number of documents deleted: 994\n"
     ]
    }
   ],
   "source": [
    "# Delete all documents where LocalAuthorityName is \"Dover\"\n",
    "query = {\"LocalAuthorityName\": \"Dover\"}\n",
    "\n",
    "# Use the delete_many() method to remove matching documents\n",
    "delete_result = establishments.delete_many(query)\n",
    "\n",
    "# Print the number of deleted documents\n",
    "print(\"Number of documents deleted:\", delete_result.deleted_count)"
   ]
  },
  {
   "cell_type": "code",
   "execution_count": 17,
   "id": "2a51aba0",
   "metadata": {},
   "outputs": [
    {
     "name": "stdout",
     "output_type": "stream",
     "text": [
      "No remaining documents include 'Dover' in LocalAuthorityName.\n"
     ]
    }
   ],
   "source": [
    "# Check if any remaining documents include Dover\n",
    "# Define the query to count remaining documents with LocalAuthorityName as \"Dover\"\n",
    "query = {\"LocalAuthorityName\": \"Dover\"}\n",
    "\n",
    "# Use the count_documents() method to count remaining matching documents\n",
    "count = establishments.count_documents(query)\n",
    "\n",
    "# Check if any remaining documents include \"Dover\"\n",
    "if count > 0:\n",
    "    print(\"There are remaining documents that include 'Dover' in LocalAuthorityName.\")\n",
    "else:\n",
    "    print(\"No remaining documents include 'Dover' in LocalAuthorityName.\")"
   ]
  },
  {
   "cell_type": "code",
   "execution_count": 18,
   "id": "8c356f7b",
   "metadata": {},
   "outputs": [
    {
     "name": "stdout",
     "output_type": "stream",
     "text": [
      "At least one remaining document includes 'Greenwich' in LocalAuthorityName.\n",
      "Example remaining document:\n",
      "{'_id': ObjectId('64f4f89377e8a5b41624f5a4'), 'FHRSID': 1451407, 'ChangesByServerID': 0, 'LocalAuthorityBusinessID': '14959', 'BusinessName': 'Oaks Nursing Home', 'BusinessType': 'Caring Premises', 'BusinessTypeID': 5, 'AddressLine1': 'The Oaks 904 Sidcup Road', 'AddressLine2': '', 'AddressLine3': 'Eltham', 'AddressLine4': 'Greenwich', 'PostCode': 'SE9 3PW', 'Phone': '', 'RatingValue': '5', 'RatingKey': 'fhrs_5_en-gb', 'RatingDate': '2022-01-12T00:00:00', 'LocalAuthorityCode': '511', 'LocalAuthorityName': 'Greenwich', 'LocalAuthorityWebSite': 'http://www.royalgreenwich.gov.uk', 'LocalAuthorityEmailAddress': 'health@royalgreenwich.gov.uk', 'scores': {'Hygiene': 5, 'Structural': 5, 'ConfidenceInManagement': 5}, 'SchemeType': 'FHRS', 'geocode': {'longitude': '0.0740289', 'latitude': '51.4320613'}, 'RightToReply': '', 'Distance': 4645.598535750726, 'NewRatingPending': False, 'meta': {'dataSource': None, 'extractDate': '0001-01-01T00:00:00', 'itemCount': 0, 'returncode': None, 'totalCount': 0, 'totalPages': 0, 'pageSize': 0, 'pageNumber': 0}, 'links': [{'rel': 'self', 'href': 'http://api.ratings.food.gov.uk/establishments/1451407'}]}\n"
     ]
    }
   ],
   "source": [
    "# Check that other documents remain with 'find_one'\n",
    "# I am using the LocalAuthorityName 'Greenwich' as a litmus test to ensure other documents exist\n",
    "# Define the query to find one remaining document with LocalAuthorityName as \"Greenwich\"\n",
    "query = {\"LocalAuthorityName\": \"Greenwich\"}\n",
    "\n",
    "# Use the find_one() method to retrieve one remaining matching document\n",
    "remaining_document = establishments.find_one(query)\n",
    "\n",
    "# Check if any remaining document includes \"Dover\" in LocalAuthorityName\n",
    "if remaining_document:\n",
    "    print(\"At least one remaining document includes 'Greenwich' in LocalAuthorityName.\")\n",
    "    print(\"Example remaining document:\")\n",
    "    print(remaining_document)\n",
    "else:\n",
    "    print(\"No remaining documents include 'Greenwich' in LocalAuthorityName.\")"
   ]
  },
  {
   "attachments": {},
   "cell_type": "markdown",
   "id": "e9f1662d",
   "metadata": {},
   "source": [
    "5. Some of the number values are stored as strings, when they should be stored as numbers."
   ]
  },
  {
   "attachments": {},
   "cell_type": "markdown",
   "id": "c46df2df",
   "metadata": {},
   "source": [
    "Use `update_many` to convert `latitude` and `longitude` to decimal numbers."
   ]
  },
  {
   "cell_type": "code",
   "execution_count": 19,
   "id": "fd4112ce",
   "metadata": {},
   "outputs": [
    {
     "name": "stdout",
     "output_type": "stream",
     "text": [
      "Number of documents updated: 1\n"
     ]
    }
   ],
   "source": [
    "# Change the data type from String to Decimal for longitude and latitude\n",
    "# Define the update operation to convert latitude and longitude to decimal numbers\n",
    "# Define the aggregation pipeline to convert \"longitude\" and \"latitude\" to decimal\n",
    "# Define the query to select documents with \"geocode.latitude\" and \"geocode.longitude\" as strings\n",
    "\n",
    "# Define the update operation to convert \"latitude\" and \"longitude\" to decimal numbers\n",
    "\n",
    "# Use update_many() with the filter and update to update documents\n",
    "establishments.update_many({},[\n",
    "    {\"$set\":{\n",
    "        \"geocode.latitude\": {\"$toDecimal\": \"$geocode.latitude\"},            \n",
    "         \"geocode.longitude\": {\"$toDecimal\": \"$geocode.longitude\"}                                 \n",
    "        }}]                \n",
    ")\n",
    "\n",
    "# Print the number of documents updated\n",
    "print(\"Number of documents updated:\", update_result.modified_count)\n"
   ]
  },
  {
   "attachments": {},
   "cell_type": "markdown",
   "id": "142e319c",
   "metadata": {},
   "source": [
    "Use `update_many` to convert `RatingValue` to integer numbers."
   ]
  },
  {
   "cell_type": "code",
   "execution_count": 22,
   "id": "081d5f47",
   "metadata": {},
   "outputs": [
    {
     "ename": "WriteError",
     "evalue": "Failed to parse number 'AwaitingInspection' in $convert with no onError value: Did not consume whole string., full error: {'index': 0, 'code': 241, 'errmsg': \"Failed to parse number 'AwaitingInspection' in $convert with no onError value: Did not consume whole string.\"}",
     "output_type": "error",
     "traceback": [
      "\u001b[1;31m---------------------------------------------------------------------------\u001b[0m",
      "\u001b[1;31mWriteError\u001b[0m                                Traceback (most recent call last)",
      "Cell \u001b[1;32mIn[22], line 2\u001b[0m\n\u001b[0;32m      1\u001b[0m \u001b[39m# Change the data type from String to Integer for RatingValue\u001b[39;00m\n\u001b[1;32m----> 2\u001b[0m establishments\u001b[39m.\u001b[39;49mupdate_many({}, [ {\u001b[39m'\u001b[39;49m\u001b[39m$set\u001b[39;49m\u001b[39m'\u001b[39;49m:{ \u001b[39m\"\u001b[39;49m\u001b[39mRatingValue\u001b[39;49m\u001b[39m\"\u001b[39;49m : {\u001b[39m'\u001b[39;49m\u001b[39m$toInt\u001b[39;49m\u001b[39m'\u001b[39;49m: \u001b[39m\"\u001b[39;49m\u001b[39m$RatingValue\u001b[39;49m\u001b[39m\"\u001b[39;49m}}} ])\n",
      "File \u001b[1;32mc:\\Users\\amie-lynn.shank\\AppData\\Local\\anaconda3\\envs\\dev\\lib\\site-packages\\pymongo\\collection.py:1104\u001b[0m, in \u001b[0;36mCollection.update_many\u001b[1;34m(self, filter, update, upsert, array_filters, bypass_document_validation, collation, hint, session)\u001b[0m\n\u001b[0;32m   1100\u001b[0m common\u001b[39m.\u001b[39mvalidate_list_or_none(\u001b[39m'\u001b[39m\u001b[39marray_filters\u001b[39m\u001b[39m'\u001b[39m, array_filters)\n\u001b[0;32m   1102\u001b[0m write_concern \u001b[39m=\u001b[39m \u001b[39mself\u001b[39m\u001b[39m.\u001b[39m_write_concern_for(session)\n\u001b[0;32m   1103\u001b[0m \u001b[39mreturn\u001b[39;00m UpdateResult(\n\u001b[1;32m-> 1104\u001b[0m     \u001b[39mself\u001b[39;49m\u001b[39m.\u001b[39;49m_update_retryable(\n\u001b[0;32m   1105\u001b[0m         \u001b[39mfilter\u001b[39;49m, update, upsert, check_keys\u001b[39m=\u001b[39;49m\u001b[39mFalse\u001b[39;49;00m, multi\u001b[39m=\u001b[39;49m\u001b[39mTrue\u001b[39;49;00m,\n\u001b[0;32m   1106\u001b[0m         write_concern\u001b[39m=\u001b[39;49mwrite_concern,\n\u001b[0;32m   1107\u001b[0m         bypass_doc_val\u001b[39m=\u001b[39;49mbypass_document_validation,\n\u001b[0;32m   1108\u001b[0m         collation\u001b[39m=\u001b[39;49mcollation, array_filters\u001b[39m=\u001b[39;49marray_filters,\n\u001b[0;32m   1109\u001b[0m         hint\u001b[39m=\u001b[39;49mhint, session\u001b[39m=\u001b[39;49msession),\n\u001b[0;32m   1110\u001b[0m     write_concern\u001b[39m.\u001b[39macknowledged)\n",
      "File \u001b[1;32mc:\\Users\\amie-lynn.shank\\AppData\\Local\\anaconda3\\envs\\dev\\lib\\site-packages\\pymongo\\collection.py:877\u001b[0m, in \u001b[0;36mCollection._update_retryable\u001b[1;34m(self, criteria, document, upsert, check_keys, multi, manipulate, write_concern, op_id, ordered, bypass_doc_val, collation, array_filters, hint, session)\u001b[0m\n\u001b[0;32m    868\u001b[0m \u001b[39mdef\u001b[39;00m \u001b[39m_update\u001b[39m(session, sock_info, retryable_write):\n\u001b[0;32m    869\u001b[0m     \u001b[39mreturn\u001b[39;00m \u001b[39mself\u001b[39m\u001b[39m.\u001b[39m_update(\n\u001b[0;32m    870\u001b[0m         sock_info, criteria, document, upsert\u001b[39m=\u001b[39mupsert,\n\u001b[0;32m    871\u001b[0m         check_keys\u001b[39m=\u001b[39mcheck_keys, multi\u001b[39m=\u001b[39mmulti, manipulate\u001b[39m=\u001b[39mmanipulate,\n\u001b[1;32m   (...)\u001b[0m\n\u001b[0;32m    874\u001b[0m         array_filters\u001b[39m=\u001b[39marray_filters, hint\u001b[39m=\u001b[39mhint, session\u001b[39m=\u001b[39msession,\n\u001b[0;32m    875\u001b[0m         retryable_write\u001b[39m=\u001b[39mretryable_write)\n\u001b[1;32m--> 877\u001b[0m \u001b[39mreturn\u001b[39;00m \u001b[39mself\u001b[39;49m\u001b[39m.\u001b[39;49m__database\u001b[39m.\u001b[39;49mclient\u001b[39m.\u001b[39;49m_retryable_write(\n\u001b[0;32m    878\u001b[0m     (write_concern \u001b[39mor\u001b[39;49;00m \u001b[39mself\u001b[39;49m\u001b[39m.\u001b[39;49mwrite_concern)\u001b[39m.\u001b[39;49macknowledged \u001b[39mand\u001b[39;49;00m \u001b[39mnot\u001b[39;49;00m multi,\n\u001b[0;32m    879\u001b[0m     _update, session)\n",
      "File \u001b[1;32mc:\\Users\\amie-lynn.shank\\AppData\\Local\\anaconda3\\envs\\dev\\lib\\site-packages\\pymongo\\mongo_client.py:1552\u001b[0m, in \u001b[0;36mMongoClient._retryable_write\u001b[1;34m(self, retryable, func, session)\u001b[0m\n\u001b[0;32m   1550\u001b[0m \u001b[39m\u001b[39m\u001b[39m\"\"\"Internal retryable write helper.\"\"\"\u001b[39;00m\n\u001b[0;32m   1551\u001b[0m \u001b[39mwith\u001b[39;00m \u001b[39mself\u001b[39m\u001b[39m.\u001b[39m_tmp_session(session) \u001b[39mas\u001b[39;00m s:\n\u001b[1;32m-> 1552\u001b[0m     \u001b[39mreturn\u001b[39;00m \u001b[39mself\u001b[39;49m\u001b[39m.\u001b[39;49m_retry_with_session(retryable, func, s, \u001b[39mNone\u001b[39;49;00m)\n",
      "File \u001b[1;32mc:\\Users\\amie-lynn.shank\\AppData\\Local\\anaconda3\\envs\\dev\\lib\\site-packages\\pymongo\\mongo_client.py:1438\u001b[0m, in \u001b[0;36mMongoClient._retry_with_session\u001b[1;34m(self, retryable, func, session, bulk)\u001b[0m\n\u001b[0;32m   1429\u001b[0m \u001b[39m\u001b[39m\u001b[39m\"\"\"Execute an operation with at most one consecutive retries\u001b[39;00m\n\u001b[0;32m   1430\u001b[0m \n\u001b[0;32m   1431\u001b[0m \u001b[39mReturns func()'s return value on success. On error retries the same\u001b[39;00m\n\u001b[1;32m   (...)\u001b[0m\n\u001b[0;32m   1434\u001b[0m \u001b[39mRe-raises any exception thrown by func().\u001b[39;00m\n\u001b[0;32m   1435\u001b[0m \u001b[39m\"\"\"\u001b[39;00m\n\u001b[0;32m   1436\u001b[0m retryable \u001b[39m=\u001b[39m (retryable \u001b[39mand\u001b[39;00m \u001b[39mself\u001b[39m\u001b[39m.\u001b[39mretry_writes\n\u001b[0;32m   1437\u001b[0m              \u001b[39mand\u001b[39;00m session \u001b[39mand\u001b[39;00m \u001b[39mnot\u001b[39;00m session\u001b[39m.\u001b[39min_transaction)\n\u001b[1;32m-> 1438\u001b[0m \u001b[39mreturn\u001b[39;00m \u001b[39mself\u001b[39;49m\u001b[39m.\u001b[39;49m_retry_internal(retryable, func, session, bulk)\n",
      "File \u001b[1;32mc:\\Users\\amie-lynn.shank\\AppData\\Local\\anaconda3\\envs\\dev\\lib\\site-packages\\pymongo\\mongo_client.py:1470\u001b[0m, in \u001b[0;36mMongoClient._retry_internal\u001b[1;34m(self, retryable, func, session, bulk)\u001b[0m\n\u001b[0;32m   1468\u001b[0m                 \u001b[39mraise\u001b[39;00m last_error\n\u001b[0;32m   1469\u001b[0m             retryable \u001b[39m=\u001b[39m \u001b[39mFalse\u001b[39;00m\n\u001b[1;32m-> 1470\u001b[0m         \u001b[39mreturn\u001b[39;00m func(session, sock_info, retryable)\n\u001b[0;32m   1471\u001b[0m \u001b[39mexcept\u001b[39;00m ServerSelectionTimeoutError:\n\u001b[0;32m   1472\u001b[0m     \u001b[39mif\u001b[39;00m is_retrying():\n\u001b[0;32m   1473\u001b[0m         \u001b[39m# The application may think the write was never attempted\u001b[39;00m\n\u001b[0;32m   1474\u001b[0m         \u001b[39m# if we raise ServerSelectionTimeoutError on the retry\u001b[39;00m\n\u001b[0;32m   1475\u001b[0m         \u001b[39m# attempt. Raise the original exception instead.\u001b[39;00m\n",
      "File \u001b[1;32mc:\\Users\\amie-lynn.shank\\AppData\\Local\\anaconda3\\envs\\dev\\lib\\site-packages\\pymongo\\collection.py:869\u001b[0m, in \u001b[0;36mCollection._update_retryable.<locals>._update\u001b[1;34m(session, sock_info, retryable_write)\u001b[0m\n\u001b[0;32m    868\u001b[0m \u001b[39mdef\u001b[39;00m \u001b[39m_update\u001b[39m(session, sock_info, retryable_write):\n\u001b[1;32m--> 869\u001b[0m     \u001b[39mreturn\u001b[39;00m \u001b[39mself\u001b[39;49m\u001b[39m.\u001b[39;49m_update(\n\u001b[0;32m    870\u001b[0m         sock_info, criteria, document, upsert\u001b[39m=\u001b[39;49mupsert,\n\u001b[0;32m    871\u001b[0m         check_keys\u001b[39m=\u001b[39;49mcheck_keys, multi\u001b[39m=\u001b[39;49mmulti, manipulate\u001b[39m=\u001b[39;49mmanipulate,\n\u001b[0;32m    872\u001b[0m         write_concern\u001b[39m=\u001b[39;49mwrite_concern, op_id\u001b[39m=\u001b[39;49mop_id, ordered\u001b[39m=\u001b[39;49mordered,\n\u001b[0;32m    873\u001b[0m         bypass_doc_val\u001b[39m=\u001b[39;49mbypass_doc_val, collation\u001b[39m=\u001b[39;49mcollation,\n\u001b[0;32m    874\u001b[0m         array_filters\u001b[39m=\u001b[39;49marray_filters, hint\u001b[39m=\u001b[39;49mhint, session\u001b[39m=\u001b[39;49msession,\n\u001b[0;32m    875\u001b[0m         retryable_write\u001b[39m=\u001b[39;49mretryable_write)\n",
      "File \u001b[1;32mc:\\Users\\amie-lynn.shank\\AppData\\Local\\anaconda3\\envs\\dev\\lib\\site-packages\\pymongo\\collection.py:846\u001b[0m, in \u001b[0;36mCollection._update\u001b[1;34m(self, sock_info, criteria, document, upsert, check_keys, multi, manipulate, write_concern, op_id, ordered, bypass_doc_val, collation, array_filters, hint, session, retryable_write)\u001b[0m\n\u001b[0;32m    836\u001b[0m \u001b[39m# The command result has to be published for APM unmodified\u001b[39;00m\n\u001b[0;32m    837\u001b[0m \u001b[39m# so we make a shallow copy here before adding updatedExisting.\u001b[39;00m\n\u001b[0;32m    838\u001b[0m result \u001b[39m=\u001b[39m sock_info\u001b[39m.\u001b[39mcommand(\n\u001b[0;32m    839\u001b[0m     \u001b[39mself\u001b[39m\u001b[39m.\u001b[39m__database\u001b[39m.\u001b[39mname,\n\u001b[0;32m    840\u001b[0m     command,\n\u001b[1;32m   (...)\u001b[0m\n\u001b[0;32m    844\u001b[0m     client\u001b[39m=\u001b[39m\u001b[39mself\u001b[39m\u001b[39m.\u001b[39m__database\u001b[39m.\u001b[39mclient,\n\u001b[0;32m    845\u001b[0m     retryable_write\u001b[39m=\u001b[39mretryable_write)\u001b[39m.\u001b[39mcopy()\n\u001b[1;32m--> 846\u001b[0m _check_write_command_response(result)\n\u001b[0;32m    847\u001b[0m \u001b[39m# Add the updatedExisting field for compatibility.\u001b[39;00m\n\u001b[0;32m    848\u001b[0m \u001b[39mif\u001b[39;00m result\u001b[39m.\u001b[39mget(\u001b[39m'\u001b[39m\u001b[39mn\u001b[39m\u001b[39m'\u001b[39m) \u001b[39mand\u001b[39;00m \u001b[39m'\u001b[39m\u001b[39mupserted\u001b[39m\u001b[39m'\u001b[39m \u001b[39mnot\u001b[39;00m \u001b[39min\u001b[39;00m result:\n",
      "File \u001b[1;32mc:\\Users\\amie-lynn.shank\\AppData\\Local\\anaconda3\\envs\\dev\\lib\\site-packages\\pymongo\\helpers.py:229\u001b[0m, in \u001b[0;36m_check_write_command_response\u001b[1;34m(result)\u001b[0m\n\u001b[0;32m    227\u001b[0m write_errors \u001b[39m=\u001b[39m result\u001b[39m.\u001b[39mget(\u001b[39m\"\u001b[39m\u001b[39mwriteErrors\u001b[39m\u001b[39m\"\u001b[39m)\n\u001b[0;32m    228\u001b[0m \u001b[39mif\u001b[39;00m write_errors:\n\u001b[1;32m--> 229\u001b[0m     _raise_last_write_error(write_errors)\n\u001b[0;32m    231\u001b[0m error \u001b[39m=\u001b[39m result\u001b[39m.\u001b[39mget(\u001b[39m\"\u001b[39m\u001b[39mwriteConcernError\u001b[39m\u001b[39m\"\u001b[39m)\n\u001b[0;32m    232\u001b[0m \u001b[39mif\u001b[39;00m error:\n",
      "File \u001b[1;32mc:\\Users\\amie-lynn.shank\\AppData\\Local\\anaconda3\\envs\\dev\\lib\\site-packages\\pymongo\\helpers.py:211\u001b[0m, in \u001b[0;36m_raise_last_write_error\u001b[1;34m(write_errors)\u001b[0m\n\u001b[0;32m    209\u001b[0m \u001b[39mif\u001b[39;00m error\u001b[39m.\u001b[39mget(\u001b[39m\"\u001b[39m\u001b[39mcode\u001b[39m\u001b[39m\"\u001b[39m) \u001b[39m==\u001b[39m \u001b[39m11000\u001b[39m:\n\u001b[0;32m    210\u001b[0m     \u001b[39mraise\u001b[39;00m DuplicateKeyError(error\u001b[39m.\u001b[39mget(\u001b[39m\"\u001b[39m\u001b[39merrmsg\u001b[39m\u001b[39m\"\u001b[39m), \u001b[39m11000\u001b[39m, error)\n\u001b[1;32m--> 211\u001b[0m \u001b[39mraise\u001b[39;00m WriteError(error\u001b[39m.\u001b[39mget(\u001b[39m\"\u001b[39m\u001b[39merrmsg\u001b[39m\u001b[39m\"\u001b[39m), error\u001b[39m.\u001b[39mget(\u001b[39m\"\u001b[39m\u001b[39mcode\u001b[39m\u001b[39m\"\u001b[39m), error)\n",
      "\u001b[1;31mWriteError\u001b[0m: Failed to parse number 'AwaitingInspection' in $convert with no onError value: Did not consume whole string., full error: {'index': 0, 'code': 241, 'errmsg': \"Failed to parse number 'AwaitingInspection' in $convert with no onError value: Did not consume whole string.\"}"
     ]
    }
   ],
   "source": [
    "# Change the data type from String to Integer for RatingValue\n",
    "establishments.update_many({}, [ {'$set':{ \"RatingValue\" : {'$toInt': \"$RatingValue\"}}} ])"
   ]
  },
  {
   "cell_type": "code",
   "execution_count": 23,
   "id": "e520fe1e",
   "metadata": {},
   "outputs": [
    {
     "data": {
      "text/plain": [
       "<pymongo.results.UpdateResult at 0x20725e9a080>"
      ]
     },
     "execution_count": 23,
     "metadata": {},
     "output_type": "execute_result"
    }
   ],
   "source": [
    "# Set non 1-5 Rating Values to Null\n",
    "# Define a list of non-numeric RatingValues to set to null\n",
    "non_ratings = [\"AwaitingInspection\", \"Awaiting Inspection\", \"AwaitingPublication\", \"Pass\", \"Exempt\"]\n",
    "establishments.update_many({\"RatingValue\": {\"$in\": non_ratings}}, [ {'$set':{ \"RatingValue\" : None}} ])"
   ]
  },
  {
   "cell_type": "code",
   "execution_count": 24,
   "id": "63e03d92",
   "metadata": {},
   "outputs": [
    {
     "data": {
      "text/plain": [
       "<pymongo.results.UpdateResult at 0x20727850480>"
      ]
     },
     "execution_count": 24,
     "metadata": {},
     "output_type": "execute_result"
    }
   ],
   "source": [
    "# Change the data type from String to Integer for RatingValue\n",
    "establishments.update_many({}, [ {'$set':{ \"RatingValue\" : {'$toInt': \"$RatingValue\"}}} ])"
   ]
  },
  {
   "cell_type": "code",
   "execution_count": null,
   "id": "deb23fca",
   "metadata": {},
   "outputs": [],
   "source": [
    "# Define the aggregation pipeline to update \"RatingValue\"\n",
    "query = {\n",
    "    \"RatingValue\": {\"$in\": non_ratings}\n",
    "}\n",
    "# Define the update operation to set RatingValue to null\n",
    "update = {\n",
    "    \"$set\": {\n",
    "        \"RatingValue\": None\n",
    "    }\n",
    "}\n",
    "# Use the update_many method to update documents based on the query\n",
    "update_result = collection.update_many(query, update)\n",
    "\n",
    "# Print the number of documents updated\n",
    "print(\"Number of documents with RatingValue set to null:\", update_result.modified_count)"
   ]
  },
  {
   "cell_type": "code",
   "execution_count": null,
   "id": "e14dba68",
   "metadata": {},
   "outputs": [],
   "source": [
    "# Define the aggregation pipeline to convert \"RatingValue\" to an integer\n",
    "pipeline = [\n",
    "    {\n",
    "        \"$addFields\": {\n",
    "            \"RatingValue\": {\n",
    "                \"$toInt\": \"$RatingValue\"\n",
    "            }\n",
    "        }\n",
    "    }\n",
    "]\n",
    "\n",
    "# Use the aggregate method with the pipeline\n",
    "result = list(collection.aggregate(pipeline))\n",
    "\n",
    "# Print the updated documents\n",
    "for doc in result:\n",
    "    print(doc)\n",
    "\n",
    "\n",
    "\n",
    "\n",
    "\n"
   ]
  },
  {
   "cell_type": "code",
   "execution_count": null,
   "id": "0deacaf9",
   "metadata": {},
   "outputs": [],
   "source": [
    "# Check that the coordinates and rating value are now numbers\n",
    "# Check the data type of 'geocode' coordinates (latitude)\n",
    "# Find one document to check the data types of \"geocode\" coordinates and \"RatingValue\"\n",
    "sample_document = establishments.find_one()\n",
    "\n",
    "# Print the data types of \"geocode\" coordinates and \"RatingValue\"\n",
    "print(\"Data type of 'geocode' coordinates (latitude):\", type(sample_document['geocode']['latitude']))\n",
    "print(\"Data type of 'geocode' coordinates (longitude):\", type(sample_document['geocode']['longitude']))\n",
    "print(\"Data type of 'RatingValue':\", type(sample_document['RatingValue']))\n"
   ]
  }
 ],
 "metadata": {
  "kernelspec": {
   "display_name": "Python 3 (ipykernel)",
   "language": "python",
   "name": "python3"
  },
  "language_info": {
   "codemirror_mode": {
    "name": "ipython",
    "version": 3
   },
   "file_extension": ".py",
   "mimetype": "text/x-python",
   "name": "python",
   "nbconvert_exporter": "python",
   "pygments_lexer": "ipython3",
   "version": "3.10.12"
  }
 },
 "nbformat": 4,
 "nbformat_minor": 5
}
